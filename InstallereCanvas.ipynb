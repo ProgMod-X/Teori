{
 "cells": [
  {
   "cell_type": "markdown",
   "id": "564d4166",
   "metadata": {},
   "source": [
    "<span style=\"color:red\">Kjør linjen under én gang og slett deretter denne teksten og linjen ved bruk av ✂-knappen. Lukk deretter hele jupyter og start på nytt.</span>"
   ]
  },
  {
   "cell_type": "code",
   "execution_count": null,
   "id": "700a8b36",
   "metadata": {},
   "outputs": [],
   "source": [
    "pip install ipycanvas"
   ]
  },
  {
   "cell_type": "markdown",
   "id": "d9114ccb",
   "metadata": {},
   "source": [
    "Kjør deretter de to kodeblokkene under."
   ]
  },
  {
   "cell_type": "code",
   "execution_count": 1,
   "id": "bd3c8b5c",
   "metadata": {},
   "outputs": [],
   "source": [
    "from ipycanvas import Canvas"
   ]
  },
  {
   "cell_type": "code",
   "execution_count": 2,
   "id": "8eb5ba8c",
   "metadata": {},
   "outputs": [
    {
     "data": {
      "application/vnd.jupyter.widget-view+json": {
       "model_id": "282736d091a7491796e4ae7747e850c5",
       "version_major": 2,
       "version_minor": 0
      },
      "text/plain": [
       "Canvas(height=200, width=320)"
      ]
     },
     "metadata": {},
     "output_type": "display_data"
    }
   ],
   "source": [
    "canvas = Canvas(width=320, height=200)\n",
    "\n",
    "canvas.stroke_style = 'red'\n",
    "\n",
    "x = 320/2\n",
    "y = 200/2\n",
    "r_max = (x**2 + y**2)**(1/2)\n",
    "r = 10\n",
    "while r <= r_max:\n",
    "    canvas.stroke_circle(x, y, r)\n",
    "    r += 10\n",
    "\n",
    "display(canvas)"
   ]
  },
  {
   "cell_type": "markdown",
   "id": "af9869a6",
   "metadata": {},
   "source": [
    "Du finner informasjon om tegnebibliotektet <a href=\"https://ipycanvas.readthedocs.io/en/latest/drawing_shapes.html\">her</a>."
   ]
  }
 ],
 "metadata": {
  "kernelspec": {
   "display_name": "Python 3 (ipykernel)",
   "language": "python",
   "name": "python3"
  },
  "language_info": {
   "codemirror_mode": {
    "name": "ipython",
    "version": 3
   },
   "file_extension": ".py",
   "mimetype": "text/x-python",
   "name": "python",
   "nbconvert_exporter": "python",
   "pygments_lexer": "ipython3",
   "version": "3.10.6"
  }
 },
 "nbformat": 4,
 "nbformat_minor": 5
}
