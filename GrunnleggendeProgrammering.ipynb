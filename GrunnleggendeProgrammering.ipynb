{
 "cells": [
  {
   "cell_type": "markdown",
   "metadata": {},
   "source": [
    "# Variabler"
   ]
  },
  {
   "cell_type": "code",
   "execution_count": 2,
   "metadata": {},
   "outputs": [
    {
     "name": "stdout",
     "output_type": "stream",
     "text": [
      "11.1\n"
     ]
    }
   ],
   "source": [
    "a = 6\n",
    "b = 5.1\n",
    "c = a + b\n",
    "print(c)"
   ]
  },
  {
   "cell_type": "markdown",
   "metadata": {},
   "source": [
    "Vi kan sjekke hvilken type ting som ligger lagret i en variabel med kommandoen <code>type()</code>."
   ]
  },
  {
   "cell_type": "code",
   "execution_count": 3,
   "metadata": {},
   "outputs": [
    {
     "name": "stdout",
     "output_type": "stream",
     "text": [
      "<class 'int'>\n",
      "<class 'float'>\n"
     ]
    }
   ],
   "source": [
    "print(type(a))\n",
    "print(type(b))"
   ]
  },
  {
   "cell_type": "markdown",
   "metadata": {},
   "source": [
    "<code>int</code> står for \"integer\" som betyr heltall. Tall i settene ℕ, ℕ₀ og ℤ lages som denne typen.\n",
    "\n",
    "<code>float</code> står for \"floating point number\", og refererer til at slike tall lagres i minnet på standardform. Tall i settene ℚ og ℝ lagres som denne typen. Dette introduserer iblant unøyaktighet - se resultatet av koden under."
   ]
  },
  {
   "cell_type": "code",
   "execution_count": 1,
   "metadata": {},
   "outputs": [
    {
     "name": "stdout",
     "output_type": "stream",
     "text": [
      "0.30000000000000004\n"
     ]
    }
   ],
   "source": [
    "a = 0.1\n",
    "b = 0.2\n",
    "c = a + b\n",
    "print(c)"
   ]
  },
  {
   "cell_type": "markdown",
   "metadata": {},
   "source": [
    "Det finnes flere datatyper, deriblant en for tekst og en for sannhetsverdi.\n",
    "\n",
    "Datatypen <code>str</code> (string) lagrer tekst og tegn (som du ikke skal regne med)."
   ]
  },
  {
   "cell_type": "code",
   "execution_count": 1,
   "metadata": {},
   "outputs": [
    {
     "name": "stdout",
     "output_type": "stream",
     "text": [
      "<class 'str'>\n"
     ]
    }
   ],
   "source": [
    "s = \"Kristian\"\n",
    "print(type(s))"
   ]
  },
  {
   "cell_type": "markdown",
   "metadata": {},
   "source": [
    "Vi kan bygge strenger ved å bruke <code>+</code>."
   ]
  },
  {
   "cell_type": "code",
   "execution_count": 4,
   "metadata": {},
   "outputs": [
    {
     "name": "stdout",
     "output_type": "stream",
     "text": [
      "Hei der!\n"
     ]
    }
   ],
   "source": [
    "t = \"Hei\"\n",
    "t += \" der\" + \"!\"\n",
    "print(t)"
   ]
  },
  {
   "cell_type": "markdown",
   "metadata": {},
   "source": [
    "Men, dersom vi ønsker å legge til et tall må vi ekplisitt si at det skal gjøres om til tekst."
   ]
  },
  {
   "cell_type": "code",
   "execution_count": 6,
   "metadata": {},
   "outputs": [
    {
     "name": "stdout",
     "output_type": "stream",
     "text": [
      "Tallet er 7.\n"
     ]
    }
   ],
   "source": [
    "t = \"Tallet er \" + str(7) + \".\"\n",
    "print(t)"
   ]
  },
  {
   "cell_type": "markdown",
   "metadata": {},
   "source": [
    "En siste datatype i denne omgang som kan være nyttig er <code>bool</code> (boolean) som lagrer sannhetsveri - sann eller usann. Datatypen er spesiell i det den kun kan lagre to mulige verdier: <code>True</code> (sann) eller <code>False</code> (usann)."
   ]
  },
  {
   "cell_type": "code",
   "execution_count": 8,
   "metadata": {},
   "outputs": [
    {
     "name": "stdout",
     "output_type": "stream",
     "text": [
      "<class 'bool'>\n"
     ]
    }
   ],
   "source": [
    "b = True\n",
    "print(type(b))"
   ]
  },
  {
   "cell_type": "markdown",
   "metadata": {},
   "source": [
    "# Valg"
   ]
  },
  {
   "cell_type": "code",
   "execution_count": 17,
   "metadata": {},
   "outputs": [
    {
     "name": "stdout",
     "output_type": "stream",
     "text": [
      "honnør\n"
     ]
    }
   ],
   "source": [
    "alder = 66\n",
    "\n",
    "if alder < 18:\n",
    "    print(\"barn\")\n",
    "elif alder >= 18 and alder < 62:\n",
    "    print(\"voksen\")\n",
    "else:\n",
    "    print(\"honnør\")"
   ]
  },
  {
   "cell_type": "markdown",
   "metadata": {},
   "source": [
    "# Løkker\n",
    "Vi bruker løkker for å repetere operajsoner flere ganger. \n",
    "## while"
   ]
  },
  {
   "cell_type": "code",
   "execution_count": 30,
   "metadata": {},
   "outputs": [
    {
     "name": "stdout",
     "output_type": "stream",
     "text": [
      "hei\n",
      "hei\n",
      "hei\n",
      "hei\n",
      "hei\n",
      "hei\n",
      "hei\n",
      "hei\n",
      "hei\n",
      "hei\n"
     ]
    }
   ],
   "source": [
    "teller = 0\n",
    "while teller < 10:\n",
    "    print(\"hei\")\n",
    "    teller += 1  # Glemmer vi denne linjen vil programmet aldri slutte"
   ]
  },
  {
   "cell_type": "markdown",
   "metadata": {},
   "source": [
    "## for\n",
    "for-løkken går gjennom en liste med verdier, en etter en. Brukes ofte sammen med funksjonen <code>range()</code>."
   ]
  },
  {
   "cell_type": "code",
   "execution_count": 5,
   "metadata": {},
   "outputs": [
    {
     "name": "stdout",
     "output_type": "stream",
     "text": [
      "1\n",
      "2\n",
      "3\n",
      "4\n"
     ]
    }
   ],
   "source": [
    "for i in range(1,5):\n",
    "    print(i)"
   ]
  },
  {
   "cell_type": "markdown",
   "metadata": {},
   "source": [
    "Varianten over tar for seg alle hele tall intervallet $\\left [1, 5 \\right \\rangle $, der 5 altså  _ikke_ er inkludert."
   ]
  },
  {
   "cell_type": "markdown",
   "metadata": {},
   "source": [
    "# Lister\n",
    "Vi bruker lister til å samle mange av én type ting.\n",
    "\n",
    "Elementene i en liste er nummerert fra og med 0. "
   ]
  },
  {
   "cell_type": "code",
   "execution_count": 1,
   "metadata": {},
   "outputs": [
    {
     "name": "stdout",
     "output_type": "stream",
     "text": [
      "rød\n"
     ]
    }
   ],
   "source": [
    "farger = [ \"rød\", \"grønn\", \"blå\" ]\n",
    "print(farger[0])"
   ]
  },
  {
   "cell_type": "markdown",
   "metadata": {},
   "source": [
    "Funksjonen <code>len()</code> returnerer antall elementer i en liste."
   ]
  },
  {
   "cell_type": "code",
   "execution_count": 2,
   "metadata": {},
   "outputs": [
    {
     "name": "stdout",
     "output_type": "stream",
     "text": [
      "Antall farger: 3\n"
     ]
    }
   ],
   "source": [
    "print(\"Antall farger:\", len(farger))"
   ]
  },
  {
   "cell_type": "code",
   "execution_count": 3,
   "metadata": {},
   "outputs": [
    {
     "name": "stdout",
     "output_type": "stream",
     "text": [
      "rød\n",
      "grønn\n",
      "blå\n"
     ]
    }
   ],
   "source": [
    "i = 0\n",
    "while i < len(farger):\n",
    "    print(farger[i])\n",
    "    i += 1"
   ]
  },
  {
   "cell_type": "markdown",
   "metadata": {},
   "source": [
    "Vi kan legge til flere elementer ved bruk av <code>.append()</code>."
   ]
  },
  {
   "cell_type": "code",
   "execution_count": 4,
   "metadata": {},
   "outputs": [
    {
     "name": "stdout",
     "output_type": "stream",
     "text": [
      "4\n"
     ]
    }
   ],
   "source": [
    "farger.append(\"gul\")\n",
    "print( len(farger) )"
   ]
  },
  {
   "cell_type": "markdown",
   "metadata": {},
   "source": [
    "# Funksjoner"
   ]
  },
  {
   "cell_type": "code",
   "execution_count": 8,
   "metadata": {},
   "outputs": [
    {
     "name": "stdout",
     "output_type": "stream",
     "text": [
      "5\n",
      "23\n"
     ]
    }
   ],
   "source": [
    "def f(x):\n",
    "    svar = 2 * x + 3\n",
    "    return svar\n",
    "\n",
    "print(f(1))\n",
    "\n",
    "a = f(10)\n",
    "print(a)"
   ]
  },
  {
   "cell_type": "code",
   "execution_count": 9,
   "metadata": {},
   "outputs": [
    {
     "name": "stdout",
     "output_type": "stream",
     "text": [
      "0 \t 3\n",
      "1 \t 5\n",
      "2 \t 7\n",
      "3 \t 9\n",
      "4 \t 11\n",
      "5 \t 13\n",
      "6 \t 15\n",
      "7 \t 17\n",
      "8 \t 19\n",
      "9 \t 21\n",
      "10 \t 23\n"
     ]
    }
   ],
   "source": [
    "x = 0\n",
    "while x <= 10:\n",
    "    print(x, \"\\t\", f(x) )\n",
    "    x += 1 "
   ]
  }
 ],
 "metadata": {
  "kernelspec": {
   "display_name": "Python 3 (ipykernel)",
   "language": "python",
   "name": "python3"
  },
  "language_info": {
   "codemirror_mode": {
    "name": "ipython",
    "version": 3
   },
   "file_extension": ".py",
   "mimetype": "text/x-python",
   "name": "python",
   "nbconvert_exporter": "python",
   "pygments_lexer": "ipython3",
   "version": "3.10.11"
  }
 },
 "nbformat": 4,
 "nbformat_minor": 4
}
